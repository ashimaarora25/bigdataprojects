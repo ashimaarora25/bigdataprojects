{
 "cells": [
  {
   "cell_type": "code",
   "execution_count": 1,
   "id": "d9717bf4",
   "metadata": {},
   "outputs": [
    {
     "name": "stdout",
     "output_type": "stream",
     "text": [
      "Collecting kafka-python\n",
      "  Downloading kafka_python-2.2.15-py2.py3-none-any.whl (309 kB)\n",
      "\u001b[2K     \u001b[90m━━━━━━━━━━━━━━━━━━━━━━━━━━━━━━━━━━━━━━━\u001b[0m \u001b[32m309.8/309.8 kB\u001b[0m \u001b[31m4.2 MB/s\u001b[0m eta \u001b[36m0:00:00\u001b[0ma \u001b[36m0:00:01\u001b[0m\n",
      "\u001b[?25hInstalling collected packages: kafka-python\n",
      "Successfully installed kafka-python-2.2.15\n",
      "Note: you may need to restart the kernel to use updated packages.\n"
     ]
    }
   ],
   "source": [
    "pip install kafka-python"
   ]
  },
  {
   "cell_type": "code",
   "execution_count": 2,
   "id": "d2332d1d",
   "metadata": {},
   "outputs": [],
   "source": [
    "import pandas as pd\n",
    "from kafka import KafkaProducer\n",
    "from time import sleep\n",
    "import json"
   ]
  },
  {
   "cell_type": "code",
   "execution_count": null,
   "id": "28e6924b",
   "metadata": {},
   "outputs": [],
   "source": [
    "producer = KafkaProducer(bootstrap_servers=[':9092'],\n",
    "                        value_serializer = lamba x: json.dumps(x).encode('utf-8'))"
   ]
  },
  {
   "cell_type": "code",
   "execution_count": null,
   "id": "bd6111ed",
   "metadata": {},
   "outputs": [],
   "source": [
    "producer.send('demo_test', value = \"{'hello':'world'}\")"
   ]
  },
  {
   "cell_type": "code",
   "execution_count": 15,
   "id": "01869045",
   "metadata": {},
   "outputs": [
    {
     "data": {
      "text/html": [
       "<div>\n",
       "<style scoped>\n",
       "    .dataframe tbody tr th:only-of-type {\n",
       "        vertical-align: middle;\n",
       "    }\n",
       "\n",
       "    .dataframe tbody tr th {\n",
       "        vertical-align: top;\n",
       "    }\n",
       "\n",
       "    .dataframe thead th {\n",
       "        text-align: right;\n",
       "    }\n",
       "</style>\n",
       "<table border=\"1\" class=\"dataframe\">\n",
       "  <thead>\n",
       "    <tr style=\"text-align: right;\">\n",
       "      <th></th>\n",
       "      <th>Index</th>\n",
       "      <th>Date</th>\n",
       "      <th>Open</th>\n",
       "      <th>High</th>\n",
       "      <th>Low</th>\n",
       "      <th>Close</th>\n",
       "      <th>Adj Close</th>\n",
       "      <th>Volume</th>\n",
       "      <th>CloseUSD</th>\n",
       "    </tr>\n",
       "  </thead>\n",
       "  <tbody>\n",
       "    <tr>\n",
       "      <th>0</th>\n",
       "      <td>HSI</td>\n",
       "      <td>1986-12-31</td>\n",
       "      <td>2568.300049</td>\n",
       "      <td>2568.300049</td>\n",
       "      <td>2568.300049</td>\n",
       "      <td>2568.300049</td>\n",
       "      <td>2568.300049</td>\n",
       "      <td>0.0</td>\n",
       "      <td>333.879006</td>\n",
       "    </tr>\n",
       "    <tr>\n",
       "      <th>1</th>\n",
       "      <td>HSI</td>\n",
       "      <td>1987-01-02</td>\n",
       "      <td>2540.100098</td>\n",
       "      <td>2540.100098</td>\n",
       "      <td>2540.100098</td>\n",
       "      <td>2540.100098</td>\n",
       "      <td>2540.100098</td>\n",
       "      <td>0.0</td>\n",
       "      <td>330.213013</td>\n",
       "    </tr>\n",
       "    <tr>\n",
       "      <th>2</th>\n",
       "      <td>HSI</td>\n",
       "      <td>1987-01-05</td>\n",
       "      <td>2552.399902</td>\n",
       "      <td>2552.399902</td>\n",
       "      <td>2552.399902</td>\n",
       "      <td>2552.399902</td>\n",
       "      <td>2552.399902</td>\n",
       "      <td>0.0</td>\n",
       "      <td>331.811987</td>\n",
       "    </tr>\n",
       "    <tr>\n",
       "      <th>3</th>\n",
       "      <td>HSI</td>\n",
       "      <td>1987-01-06</td>\n",
       "      <td>2583.899902</td>\n",
       "      <td>2583.899902</td>\n",
       "      <td>2583.899902</td>\n",
       "      <td>2583.899902</td>\n",
       "      <td>2583.899902</td>\n",
       "      <td>0.0</td>\n",
       "      <td>335.906987</td>\n",
       "    </tr>\n",
       "    <tr>\n",
       "      <th>4</th>\n",
       "      <td>HSI</td>\n",
       "      <td>1987-01-07</td>\n",
       "      <td>2607.100098</td>\n",
       "      <td>2607.100098</td>\n",
       "      <td>2607.100098</td>\n",
       "      <td>2607.100098</td>\n",
       "      <td>2607.100098</td>\n",
       "      <td>0.0</td>\n",
       "      <td>338.923013</td>\n",
       "    </tr>\n",
       "    <tr>\n",
       "      <th>5</th>\n",
       "      <td>HSI</td>\n",
       "      <td>1987-01-08</td>\n",
       "      <td>2603.300049</td>\n",
       "      <td>2603.300049</td>\n",
       "      <td>2603.300049</td>\n",
       "      <td>2603.300049</td>\n",
       "      <td>2603.300049</td>\n",
       "      <td>0.0</td>\n",
       "      <td>338.429006</td>\n",
       "    </tr>\n",
       "    <tr>\n",
       "      <th>6</th>\n",
       "      <td>HSI</td>\n",
       "      <td>1987-01-09</td>\n",
       "      <td>2561.699951</td>\n",
       "      <td>2561.699951</td>\n",
       "      <td>2561.699951</td>\n",
       "      <td>2561.699951</td>\n",
       "      <td>2561.699951</td>\n",
       "      <td>0.0</td>\n",
       "      <td>333.020994</td>\n",
       "    </tr>\n",
       "    <tr>\n",
       "      <th>7</th>\n",
       "      <td>HSI</td>\n",
       "      <td>1987-01-12</td>\n",
       "      <td>2614.899902</td>\n",
       "      <td>2614.899902</td>\n",
       "      <td>2614.899902</td>\n",
       "      <td>2614.899902</td>\n",
       "      <td>2614.899902</td>\n",
       "      <td>0.0</td>\n",
       "      <td>339.936987</td>\n",
       "    </tr>\n",
       "    <tr>\n",
       "      <th>8</th>\n",
       "      <td>HSI</td>\n",
       "      <td>1987-01-13</td>\n",
       "      <td>2590.800049</td>\n",
       "      <td>2590.800049</td>\n",
       "      <td>2590.800049</td>\n",
       "      <td>2590.800049</td>\n",
       "      <td>2590.800049</td>\n",
       "      <td>0.0</td>\n",
       "      <td>336.804006</td>\n",
       "    </tr>\n",
       "    <tr>\n",
       "      <th>9</th>\n",
       "      <td>HSI</td>\n",
       "      <td>1987-01-14</td>\n",
       "      <td>2578.199951</td>\n",
       "      <td>2578.199951</td>\n",
       "      <td>2578.199951</td>\n",
       "      <td>2578.199951</td>\n",
       "      <td>2578.199951</td>\n",
       "      <td>0.0</td>\n",
       "      <td>335.165994</td>\n",
       "    </tr>\n",
       "  </tbody>\n",
       "</table>\n",
       "</div>"
      ],
      "text/plain": [
       "  Index        Date         Open         High          Low        Close  \\\n",
       "0   HSI  1986-12-31  2568.300049  2568.300049  2568.300049  2568.300049   \n",
       "1   HSI  1987-01-02  2540.100098  2540.100098  2540.100098  2540.100098   \n",
       "2   HSI  1987-01-05  2552.399902  2552.399902  2552.399902  2552.399902   \n",
       "3   HSI  1987-01-06  2583.899902  2583.899902  2583.899902  2583.899902   \n",
       "4   HSI  1987-01-07  2607.100098  2607.100098  2607.100098  2607.100098   \n",
       "5   HSI  1987-01-08  2603.300049  2603.300049  2603.300049  2603.300049   \n",
       "6   HSI  1987-01-09  2561.699951  2561.699951  2561.699951  2561.699951   \n",
       "7   HSI  1987-01-12  2614.899902  2614.899902  2614.899902  2614.899902   \n",
       "8   HSI  1987-01-13  2590.800049  2590.800049  2590.800049  2590.800049   \n",
       "9   HSI  1987-01-14  2578.199951  2578.199951  2578.199951  2578.199951   \n",
       "\n",
       "     Adj Close  Volume    CloseUSD  \n",
       "0  2568.300049     0.0  333.879006  \n",
       "1  2540.100098     0.0  330.213013  \n",
       "2  2552.399902     0.0  331.811987  \n",
       "3  2583.899902     0.0  335.906987  \n",
       "4  2607.100098     0.0  338.923013  \n",
       "5  2603.300049     0.0  338.429006  \n",
       "6  2561.699951     0.0  333.020994  \n",
       "7  2614.899902     0.0  339.936987  \n",
       "8  2590.800049     0.0  336.804006  \n",
       "9  2578.199951     0.0  335.165994  "
      ]
     },
     "execution_count": 15,
     "metadata": {},
     "output_type": "execute_result"
    }
   ],
   "source": [
    "#Read stock market data into csv\n",
    "csv_url = 'https://raw.githubusercontent.com/darshilparmar/stock-market-kafka-data-engineering-project/refs/heads/main/indexProcessed.csv'\n",
    "df = pd.read_csv(csv_url)\n",
    "df.head(10)"
   ]
  },
  {
   "cell_type": "code",
   "execution_count": 18,
   "id": "157e0ae5",
   "metadata": {},
   "outputs": [
    {
     "data": {
      "text/plain": [
       "{'Index': 'N225',\n",
       " 'Date': '1969-10-31',\n",
       " 'Open': 2130.300049,\n",
       " 'High': 2130.300049,\n",
       " 'Low': 2130.300049,\n",
       " 'Close': 2130.300049,\n",
       " 'Adj Close': 2130.300049,\n",
       " 'Volume': 0.0,\n",
       " 'CloseUSD': 21.30300049}"
      ]
     },
     "execution_count": 18,
     "metadata": {},
     "output_type": "execute_result"
    }
   ],
   "source": [
    "#Obtain a random Python dictionary object\n",
    "stock_dict = df.sample(1).to_dict(orient='records')[0]"
   ]
  },
  {
   "cell_type": "code",
   "execution_count": null,
   "id": "3af9ffe0",
   "metadata": {},
   "outputs": [],
   "source": [
    "producer.flush()"
   ]
  }
 ],
 "metadata": {
  "kernelspec": {
   "display_name": "Python 3 (ipykernel)",
   "language": "python",
   "name": "python3"
  },
  "language_info": {
   "codemirror_mode": {
    "name": "ipython",
    "version": 3
   },
   "file_extension": ".py",
   "mimetype": "text/x-python",
   "name": "python",
   "nbconvert_exporter": "python",
   "pygments_lexer": "ipython3",
   "version": "3.9.13"
  }
 },
 "nbformat": 4,
 "nbformat_minor": 5
}
